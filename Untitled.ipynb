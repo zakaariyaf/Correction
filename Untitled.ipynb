{
 "cells": [
  {
   "cell_type": "markdown",
   "metadata": {},
   "source": [
    "# Ex 1 :"
   ]
  },
  {
   "cell_type": "code",
   "execution_count": 2,
   "metadata": {},
   "outputs": [
    {
     "data": {
      "text/plain": [
       "True"
      ]
     },
     "execution_count": 2,
     "metadata": {},
     "output_type": "execute_result"
    }
   ],
   "source": [
    "import cv2 as cv\n",
    "import numpy as np\n",
    "#Ex 2  :\n",
    "img1 = cv.imread(\"img.jpg\",1)\n",
    "#cv.imshow(\"Img1\",img1)\n",
    "img2=cv.cvtColor(img1,cv.COLOR_BGR2GRAY)\n",
    "#cv.imshow(\"Img2\",img2)\n",
    "#cv.waitKey(0)\n",
    "#cv.destroyAllWindows()\n",
    "#Ex 2  : \n",
    "cv.imwrite(\"Img niveaux de gris .jpg\",img2)\n"
   ]
  },
  {
   "cell_type": "markdown",
   "metadata": {},
   "source": [
    "# Ex 3 : "
   ]
  },
  {
   "cell_type": "code",
   "execution_count": 38,
   "metadata": {},
   "outputs": [
    {
     "data": {
      "text/plain": [
       "True"
      ]
     },
     "execution_count": 38,
     "metadata": {},
     "output_type": "execute_result"
    }
   ],
   "source": [
    "Visage = cv.imread(\"img.jpg\",1)\n",
    "Visage=cv.rectangle(Visage,(141,34),(464,380),(0,255,0),3)\n",
    "Visage=cv.circle(Visage,(233,135),40,(255,0,0),4)\n",
    "Visage=cv.circle(Visage,(388,135),40,(255,0,0),4)\n",
    "#Visage=cv.resize(Visage,(800,600))\n",
    "cv.imshow(\"Img1\",Visage)\n",
    "cv.waitKey(0)\n",
    "cv.destroyAllWindows()\n",
    "#Ex 4    :\n",
    "cv.imwrite(\"Img Ex 4  .jpg\",Visage)"
   ]
  },
  {
   "cell_type": "markdown",
   "metadata": {},
   "source": [
    "# Ex 5 "
   ]
  },
  {
   "cell_type": "code",
   "execution_count": 39,
   "metadata": {},
   "outputs": [
    {
     "name": "stdout",
     "output_type": "stream",
     "text": [
      "(400, 600, 3)\n",
      " Le nombre de différences  0\n",
      "(400, 600, 3)\n",
      " Le nombre de différences  2700261\n"
     ]
    }
   ],
   "source": [
    "#Test 1 \n",
    "img= cv.imread(\"img.jpg\")\n",
    "print(img.shape)\n",
    "img1= cv.imread(\"img.jpg\")\n",
    "diff_img=cv.subtract(img,img1)\n",
    "print(\" Le nombre de différences \",np.sum(diff_img))\n",
    "#Test 2\n",
    "img= cv.imread(\"img.jpg\")\n",
    "print(img.shape)\n",
    "img1= cv.imread(\"Img Ex 4  .jpg\")\n",
    "diff_img=cv.subtract(img,img1)\n",
    "print(\" Le nombre de différences \",np.sum(diff_img))"
   ]
  },
  {
   "cell_type": "markdown",
   "metadata": {},
   "source": [
    "# Ex 6"
   ]
  },
  {
   "cell_type": "code",
   "execution_count": 6,
   "metadata": {},
   "outputs": [],
   "source": [
    "\n",
    "i_Hassan2=cv.imread(\"hassan.jpg\")\n",
    "i_Cr7=cv.imread(\"Cr7.png\")\n",
    "i_Hassan2=cv.resize(i_Hassan2,(800,400))\n",
    "i_Cr7=cv.resize(i_Cr7,(800,400))\n",
    "img_Ex6=cv.addWeighted(i_Cr7,0.7,i_Hassan2 ,0.3,0)\n",
    "#cv.imshow(\"Hassan\", i_Hassan)\n",
    "#cv.imshow(\"Cr7\", i_Cr7)\n",
    "cv.imshow(\"Resultat Ex6\", img_Ex6)\n",
    "cv.waitKey(0)\n",
    "cv.destroyAllWindows()"
   ]
  }
 ],
 "metadata": {
  "kernelspec": {
   "display_name": "Python 3",
   "language": "python",
   "name": "python3"
  },
  "language_info": {
   "codemirror_mode": {
    "name": "ipython",
    "version": 3
   },
   "file_extension": ".py",
   "mimetype": "text/x-python",
   "name": "python",
   "nbconvert_exporter": "python",
   "pygments_lexer": "ipython3",
   "version": "3.8.5"
  }
 },
 "nbformat": 4,
 "nbformat_minor": 4
}
